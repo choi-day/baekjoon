{
  "nbformat": 4,
  "nbformat_minor": 0,
  "metadata": {
    "colab": {
      "provenance": [],
      "authorship_tag": "ABX9TyNgrCcfd3yEsTisM9muDpGX",
      "include_colab_link": true
    },
    "kernelspec": {
      "name": "python3",
      "display_name": "Python 3"
    },
    "language_info": {
      "name": "python"
    }
  },
  "cells": [
    {
      "cell_type": "markdown",
      "metadata": {
        "id": "view-in-github",
        "colab_type": "text"
      },
      "source": [
        "<a href=\"https://colab.research.google.com/github/choi-day/baekjoon/blob/main/1789.ipynb\" target=\"_parent\"><img src=\"https://colab.research.google.com/assets/colab-badge.svg\" alt=\"Open In Colab\"/></a>"
      ]
    },
    {
      "cell_type": "code",
      "execution_count": 1,
      "metadata": {
        "colab": {
          "base_uri": "https://localhost:8080/"
        },
        "id": "wNOIS7gsn99G",
        "outputId": "ed9a6715-aec8-47b8-e5df-baab324f9abf"
      },
      "outputs": [
        {
          "output_type": "stream",
          "name": "stdout",
          "text": [
            "200\n",
            "19\n"
          ]
        }
      ],
      "source": [
        "s = int(input())\n",
        "\n",
        "count = 0\n",
        "a = 1\n",
        "\n",
        "while(1):\n",
        "    if s - a > -1:\n",
        "        s = s - a\n",
        "        count += 1\n",
        "        a += 1\n",
        "    else:\n",
        "        break\n",
        "print(count)"
      ]
    }
  ]
}